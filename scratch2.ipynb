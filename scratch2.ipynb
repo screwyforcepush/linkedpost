{
 "cells": [
  {
   "cell_type": "code",
   "execution_count": null,
   "metadata": {},
   "outputs": [],
   "source": []
  },
  {
   "attachments": {},
   "cell_type": "markdown",
   "metadata": {},
   "source": [
    "# TODO\n",
    "plan and execute orchestration\n",
    "contextual compression\n",
    "tone analysis from my writing\n",
    "\n",
    "# Data\n",
    "git /Users/savageabscbn/dev/ai/langchain/docs/modules/indexes/document_loaders/examples/git.ipynb\n",
    "\n",
    "website scrape /Users/savageabscbn/dev/ai/langchain/docs/modules/indexes/document_loaders/examples/sitemap.ipynb\n",
    "\n",
    "url /Users/savageabscbn/dev/ai/langchain/docs/modules/indexes/document_loaders/examples/diffbot.ipynb\n",
    "\n",
    "Other content I have written\n",
    "https://www.brightcove.com/en/resources/blog/\n",
    "amplitude\n",
    "ad (the wrapper tech thing doc I have) and video metrics\n",
    "entertainment science\n",
    "\n",
    "# My draft plan\n",
    "1. Create datasets of: AI research, AI tutorials, AI news, video metrics, ad metrics, streaming service blog posts, user behavior analysis methods, entertainment science, audience, discord threads,\n",
    "2. Prompt generative AI make connections between these datasets in a unique way. Providing execution examples.\n",
    "3. Verify that this is a novel approach via search.\n",
    "4. Create and post linkedin post from the content\n",
    "5. Automate the entire process\n"
   ]
  }
 ],
 "metadata": {
  "language_info": {
   "name": "python"
  },
  "orig_nbformat": 4
 },
 "nbformat": 4,
 "nbformat_minor": 2
}
